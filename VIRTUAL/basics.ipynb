{
 "cells": [
  {
   "cell_type": "code",
   "execution_count": 14,
   "metadata": {},
   "outputs": [],
   "source": [
    "api_key = \"CzSt5ZqXbh6uJyAttlsKp9fZdlSpwEky9PkA50eR\"\n",
    "\n",
    "from dextools_python import DextoolsAPIV2\n",
    "dextools = DextoolsAPIV2(api_key, plan=\"trial\")"
   ]
  },
  {
   "cell_type": "code",
   "execution_count": 2,
   "metadata": {},
   "outputs": [
    {
     "name": "stdout",
     "output_type": "stream",
     "text": [
      "{'statusCode': 200, 'data': {'name': 'Ethereum', 'website': 'https://ethereum.org/', 'id': 'ether'}}\n"
     ]
    }
   ],
   "source": [
    "blockchain = dextools.get_blockchain(\"ether\")\n",
    "print(blockchain)"
   ]
  },
  {
   "cell_type": "code",
   "execution_count": 4,
   "metadata": {},
   "outputs": [
    {
     "name": "stdout",
     "output_type": "stream",
     "text": [
      "{'statusCode': 200, 'data': {'factory': '0x5c69bee701ef814a2b6a3edd4b1652cb9cc5aa6f', 'name': 'Uniswap V2', 'website': 'https://v2.info.uniswap.org/pair/', 'pools': 5227, 'volume24h': 8228114382891431, 'swaps24h': 161643}}\n"
     ]
    }
   ],
   "source": [
    "factory = dextools.get_dex_factory_info(\"ether\", \"0x5C69bEe701ef814a2B6a3EDD4B1652CB9cc5aA6f\")\n",
    "print(factory)"
   ]
  },
  {
   "cell_type": "code",
   "execution_count": 5,
   "metadata": {},
   "outputs": [
    {
     "name": "stdout",
     "output_type": "stream",
     "text": [
      "{'statusCode': 200, 'data': {'reserves': {'mainToken': 865361.428882162, 'sideToken': 120.92294235424326}, 'liquidity': 866999.8730610001}}\n"
     ]
    }
   ],
   "source": [
    "pool_liquidity = dextools.get_pool_liquidity(\"ether\", \"0xa29fe6ef9592b5d408cca961d0fb9b1faf497d6d\")\n",
    "print(pool_liquidity)"
   ]
  },
  {
   "cell_type": "code",
   "execution_count": 6,
   "metadata": {},
   "outputs": [
    {
     "name": "stdout",
     "output_type": "stream",
     "text": [
      "{'statusCode': 200, 'data': {'address': '0xfb7b4564402e5500db5bb6d63ae671302777c75a', 'name': 'DEXTools', 'symbol': 'DEXT', 'logo': 'https://www.dextools.io/resources/tokens/logos/ether/0xfb7b4564402e5500db5bb6d63ae671302777c75a.png?1683027906189', 'description': 'DEXT is the utility token of DEXTools, which you can use to access all features and tiers of the app.', 'creationTime': '2021-07-03T14:14:39.000Z', 'creationBlock': 12755070, 'decimals': 18, 'socialInfo': {'email': 'info@dextools.io', 'discord': 'https://discord.gg/PnycaVp', 'medium': 'https://medium.com/@DEXTools', 'telegram': 'https://t.me/DEXToolsCommunity', 'tiktok': 'https://www.tiktok.com/@dextools', 'twitter': 'https://twitter.com/DEXToolsApp', 'website': 'https://info.dextools.io/', 'youtube': 'https://www.youtube.com/c/DEXToolsAcademy?sub_confirmation=1', 'instagram': 'https://www.instagram.com/dextools.official/', 'bitbucket': '', 'facebook': '', 'github': '', 'linkedin': '', 'reddit': 'https://www.reddit.com', 'slack': ''}}}\n"
     ]
    }
   ],
   "source": [
    "token = dextools.get_token(\"ether\", \"0xfb7b4564402e5500db5bb6d63ae671302777c75a\")\n",
    "print(token)"
   ]
  },
  {
   "cell_type": "code",
   "execution_count": 12,
   "metadata": {},
   "outputs": [
    {
     "name": "stdout",
     "output_type": "stream",
     "text": [
      "{'statusCode': 200, 'data': {'price': 0.0063462271294760135, 'priceChain': 1.7667159652380374e-06, 'price5m': 0.0063462271294760135, 'priceChain5m': 1.7667159652380374e-06, 'variation5m': 0, 'variationChain5m': 0, 'price1h': 0.00644887028242794, 'priceChain1h': 1.8017649969473842e-06, 'variation1h': -1.5916454891581777, 'variationChain1h': -1.945260995120246, 'price6h': 0.007650250000644633, 'priceChain6h': 2.1344311480822373e-06, 'variation6h': -17.045493559801816, 'variationChain6h': -17.22778376686397, 'price24h': 0.004084062258165639, 'priceChain24h': 1.1330966324819468e-06, 'variation24h': 55.39006822894095, 'variationChain24h': 55.91926712977728}}\n"
     ]
    }
   ],
   "source": [
    "token_price = dextools.get_token_price(\"base\", \"0x698b49063c14d2753d23064ff891a876cffa6fb5\")\n",
    "print(token_price)"
   ]
  },
  {
   "cell_type": "code",
   "execution_count": 13,
   "metadata": {},
   "outputs": [
    {
     "name": "stdout",
     "output_type": "stream",
     "text": [
      "{'statusCode': 200, 'data': {'dextScore': {'total': 69}, 'votes': {'upvotes': 0, 'downvotes': 0}}}\n"
     ]
    }
   ],
   "source": [
    "token_score = dextools.get_token_score(\"base\", \"0x698b49063c14d2753d23064ff891a876cffa6fb5\")\n",
    "print(token_score)"
   ]
  },
  {
   "cell_type": "code",
   "execution_count": 19,
   "metadata": {},
   "outputs": [
    {
     "name": "stdout",
     "output_type": "stream",
     "text": [
      "{'statusCode': 200, 'data': {'circulatingSupply': None, 'totalSupply': 1000000000, 'mcap': None, 'fdv': 2608637.9399337694, 'holders': 981}}\n"
     ]
    }
   ],
   "source": [
    "locks = dextools.get_token_info(\"base\", \"0x99298c6be0e8ec9e56b7a2be5850abe1fc109d94\")\n",
    "print(locks)\n"
   ]
  }
 ],
 "metadata": {
  "kernelspec": {
   "display_name": "Python 3",
   "language": "python",
   "name": "python3"
  },
  "language_info": {
   "codemirror_mode": {
    "name": "ipython",
    "version": 3
   },
   "file_extension": ".py",
   "mimetype": "text/x-python",
   "name": "python",
   "nbconvert_exporter": "python",
   "pygments_lexer": "ipython3",
   "version": "3.12.4"
  }
 },
 "nbformat": 4,
 "nbformat_minor": 2
}
